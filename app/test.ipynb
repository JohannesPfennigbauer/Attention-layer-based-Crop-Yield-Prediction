{
 "cells": [
  {
   "cell_type": "code",
   "execution_count": 1,
   "metadata": {},
   "outputs": [],
   "source": [
    "import numpy as np\n",
    "import pandas as pd"
   ]
  },
  {
   "cell_type": "code",
   "execution_count": 25,
   "metadata": {},
   "outputs": [],
   "source": [
    "val_df = pd.read_csv('../data/val_df.csv')\n",
    "val_df['FIPS_cty'] = val_df['FIPS_cty'].astype(str)\n",
    "data = np.load('../data/app_data.npz')\n",
    "X_test = data['X_test']"
   ]
  },
  {
   "cell_type": "code",
   "execution_count": 26,
   "metadata": {},
   "outputs": [
    {
     "data": {
      "text/html": [
       "<div>\n",
       "<style scoped>\n",
       "    .dataframe tbody tr th:only-of-type {\n",
       "        vertical-align: middle;\n",
       "    }\n",
       "\n",
       "    .dataframe tbody tr th {\n",
       "        vertical-align: top;\n",
       "    }\n",
       "\n",
       "    .dataframe thead th {\n",
       "        text-align: right;\n",
       "    }\n",
       "</style>\n",
       "<table border=\"1\" class=\"dataframe\">\n",
       "  <thead>\n",
       "    <tr style=\"text-align: right;\">\n",
       "      <th></th>\n",
       "      <th>loc_id</th>\n",
       "      <th>year</th>\n",
       "      <th>yield</th>\n",
       "      <th>yield_pred_og</th>\n",
       "      <th>yield_pred_att</th>\n",
       "      <th>County_State</th>\n",
       "      <th>FIPS_cty</th>\n",
       "    </tr>\n",
       "  </thead>\n",
       "  <tbody>\n",
       "    <tr>\n",
       "      <th>0</th>\n",
       "      <td>0.0</td>\n",
       "      <td>2017.0</td>\n",
       "      <td>55.9</td>\n",
       "      <td>49.729111</td>\n",
       "      <td>54.161774</td>\n",
       "      <td>adams, illinois</td>\n",
       "      <td>17001</td>\n",
       "    </tr>\n",
       "    <tr>\n",
       "      <th>1</th>\n",
       "      <td>1.0</td>\n",
       "      <td>2017.0</td>\n",
       "      <td>42.3</td>\n",
       "      <td>49.615429</td>\n",
       "      <td>46.804111</td>\n",
       "      <td>alexander, illinois</td>\n",
       "      <td>17003</td>\n",
       "    </tr>\n",
       "    <tr>\n",
       "      <th>2</th>\n",
       "      <td>2.0</td>\n",
       "      <td>2017.0</td>\n",
       "      <td>54.5</td>\n",
       "      <td>51.158161</td>\n",
       "      <td>52.772392</td>\n",
       "      <td>bond, illinois</td>\n",
       "      <td>17005</td>\n",
       "    </tr>\n",
       "    <tr>\n",
       "      <th>3</th>\n",
       "      <td>3.0</td>\n",
       "      <td>2017.0</td>\n",
       "      <td>47.4</td>\n",
       "      <td>52.034431</td>\n",
       "      <td>55.832367</td>\n",
       "      <td>boone, illinois</td>\n",
       "      <td>17007</td>\n",
       "    </tr>\n",
       "    <tr>\n",
       "      <th>4</th>\n",
       "      <td>4.0</td>\n",
       "      <td>2017.0</td>\n",
       "      <td>57.1</td>\n",
       "      <td>50.143456</td>\n",
       "      <td>56.247849</td>\n",
       "      <td>brown, illinois</td>\n",
       "      <td>17009</td>\n",
       "    </tr>\n",
       "  </tbody>\n",
       "</table>\n",
       "</div>"
      ],
      "text/plain": [
       "   loc_id    year  yield  yield_pred_og  yield_pred_att         County_State  \\\n",
       "0     0.0  2017.0   55.9      49.729111       54.161774      adams, illinois   \n",
       "1     1.0  2017.0   42.3      49.615429       46.804111  alexander, illinois   \n",
       "2     2.0  2017.0   54.5      51.158161       52.772392       bond, illinois   \n",
       "3     3.0  2017.0   47.4      52.034431       55.832367      boone, illinois   \n",
       "4     4.0  2017.0   57.1      50.143456       56.247849      brown, illinois   \n",
       "\n",
       "  FIPS_cty  \n",
       "0    17001  \n",
       "1    17003  \n",
       "2    17005  \n",
       "3    17007  \n",
       "4    17009  "
      ]
     },
     "execution_count": 26,
     "metadata": {},
     "output_type": "execute_result"
    }
   ],
   "source": [
    "val_df.head()"
   ]
  },
  {
   "cell_type": "code",
   "execution_count": 30,
   "metadata": {},
   "outputs": [],
   "source": [
    "data = np.load('../data/test_data.npz')\n",
    "test_data = data['test_data']"
   ]
  },
  {
   "cell_type": "code",
   "execution_count": 32,
   "metadata": {},
   "outputs": [
    {
     "data": {
      "text/plain": [
       "array([   0.,    3.,    4.,    5.,    7.,    8.,    9.,   10.,   11.,\n",
       "         12.,   13.,   14.,   16.,   18.,   19.,   21.,   22.,   23.,\n",
       "         25.,   26.,   27.,   28.,   29.,   30.,   31.,   32.,   34.,\n",
       "         35.,   36.,   37.,   38.,   39.,   43.,   44.,   45.,   46.,\n",
       "         47.,   49.,   50.,   51.,   52.,   53.,   54.,   55.,   56.,\n",
       "         57.,   64.,   65.,   66.,   67.,   68.,   69.,   70.,   71.,\n",
       "         72.,   73.,   77.,   78.,   79.,   80.,   81.,   82.,   84.,\n",
       "         87.,   88.,   90.,   92.,   93.,   94.,   95.,   96.,   97.,\n",
       "         98.,   99.,  100.,  101.,  102.,  103.,  104.,  105.,  106.,\n",
       "        108.,  109.,  110.,  111.,  112.,  114.,  116.,  117.,  118.,\n",
       "        119.,  120.,  121.,  124.,  125.,  126.,  127.,  128.,  129.,\n",
       "        130.,  131.,  132.,  133.,  134.,  135.,  136.,  137.,  138.,\n",
       "        139.,  140.,  142.,  143.,  147.,  148.,  150.,  152.,  153.,\n",
       "        155.,  156.,  157.,  158.,  159.,  161.,  164.,  165.,  166.,\n",
       "        167.,  168.,  169.,  170.,  171.,  172.,  174.,  176.,  177.,\n",
       "        178.,  179.,  181.,  182.,  183.,  184.,  185.,  186.,  187.,\n",
       "        188.,  189.,  190.,  191.,  192.,  193.,  194.,  195.,  197.,\n",
       "        198.,  199.,  200.,  201.,  202.,  203.,  204.,  205.,  206.,\n",
       "        207.,  208.,  209.,  210.,  211.,  212.,  213.,  214.,  215.,\n",
       "        216.,  217.,  219.,  220.,  221.,  222.,  223.,  224.,  225.,\n",
       "        226.,  227.,  228.,  229.,  230.,  231.,  232.,  233.,  234.,\n",
       "        235.,  236.,  237.,  238.,  239.,  240.,  241.,  242.,  243.,\n",
       "        244.,  245.,  246.,  247.,  248.,  249.,  250.,  252.,  253.,\n",
       "        254.,  255.,  256.,  258.,  259.,  260.,  261.,  262.,  264.,\n",
       "        265.,  266.,  267.,  268.,  269.,  271.,  272.,  273.,  274.,\n",
       "        275.,  276.,  277.,  278.,  280.,  281.,  283.,  284.,  285.,\n",
       "        286.,  287.,  288.,  289.,  290.,  291.,  293.,  294.,  297.,\n",
       "        298.,  301.,  305.,  307.,  310.,  313.,  314.,  316.,  318.,\n",
       "        321.,  328.,  330.,  331.,  332.,  334.,  337.,  339.,  341.,\n",
       "        348.,  349.,  352.,  353.,  354.,  355.,  357.,  358.,  361.,\n",
       "        366.,  367.,  377.,  378.,  379.,  380.,  387.,  390.,  393.,\n",
       "        561.,  562.,  563.,  565.,  566.,  567.,  568.,  569.,  571.,\n",
       "        572.,  573.,  575.,  577.,  578.,  580.,  581.,  582.,  583.,\n",
       "        585.,  588.,  590.,  592.,  593.,  597.,  599.,  602.,  606.,\n",
       "        607.,  608.,  609.,  610.,  612.,  613.,  618.,  621.,  622.,\n",
       "        623.,  624.,  625.,  628.,  629.,  630.,  631.,  632.,  634.,\n",
       "        635.,  637.,  638.,  639.,  643.,  646.,  647.,  649.,  650.,\n",
       "        665.,  668.,  672.,  678.,  679.,  680.,  682.,  683.,  685.,\n",
       "        686.,  691.,  693.,  694.,  695.,  696.,  697.,  699.,  709.,\n",
       "        710.,  711.,  712.,  713.,  714.,  717.,  719.,  721.,  722.,\n",
       "        723.,  725.,  726.,  727.,  731.,  735.,  747.,  757.,  759.,\n",
       "        760.,  764.,  768.,  769.,  770.,  771.,  772.,  776.,  777.,\n",
       "        778.,  779.,  781.,  784.,  787.,  791.,  793.,  794.,  795.,\n",
       "        796.,  797.,  798.,  801.,  802.,  803.,  805.,  807.,  808.,\n",
       "        809.,  811.,  813.,  815.,  818.,  820.,  821.,  823.,  824.,\n",
       "        825.,  826.,  828.,  830.,  832.,  834.,  836.,  838.,  839.,\n",
       "        842.,  843.,  844.,  845.,  847.,  849.,  850.,  851.,  853.,\n",
       "        854.,  855.,  859.,  860.,  863.,  876.,  877.,  879.,  881.,\n",
       "        882.,  884.,  886.,  889.,  893.,  894.,  895.,  984.,  987.,\n",
       "        988.,  989.,  992.,  993.,  994.,  995., 1001., 1004., 1005.,\n",
       "       1006., 1009., 1010., 1012., 1013., 1016., 1018., 1019., 1020.,\n",
       "       1021., 1022., 1027., 1028., 1029., 1033., 1034., 1035., 1036.,\n",
       "       1040., 1041., 1042., 1043.])"
      ]
     },
     "execution_count": 32,
     "metadata": {},
     "output_type": "execute_result"
    }
   ],
   "source": [
    "test_data[:,0]"
   ]
  },
  {
   "cell_type": "code",
   "execution_count": 40,
   "metadata": {},
   "outputs": [],
   "source": [
    "import tensorflow as tf\n",
    "\n",
    "og_model = tf.keras.models.load_model('../models/og_model.keras')\n",
    "att_model = tf.keras.models.load_model('../models/standard_att_model.keras')\n"
   ]
  },
  {
   "cell_type": "code",
   "execution_count": 48,
   "metadata": {},
   "outputs": [],
   "source": [
    "\n",
    "def predict(selected_county):\n",
    "    loc_id = val_df[val_df['County_State'] == selected_county]['loc_id'].values[0]\n",
    "    X_sample = test_data[test_data[:, 0] == float(loc_id)]\n",
    "    if X_sample.shape[0] == 0:\n",
    "        print('County not found')\n",
    "        return\n",
    "    year = X_sample[0, 1]\n",
    "    y_true = X_sample[0, 2]\n",
    "    \n",
    "    X_sample = X_sample[:, 3:]\n",
    "    #y_pred_og = og_model.predict(X_sample)\n",
    "    # y_pred_att = att_model.predict(X_sample)\n",
    "    \n",
    "    #test_df.loc[len(test_df)] = [loc_id, year, y_true, y_pred_og[0][0], y_pred_att[0][0]]\n",
    "    print(loc_id, year, y_true, #y_pred_og, \n",
    "          X_sample.shape)"
   ]
  },
  {
   "cell_type": "code",
   "execution_count": 42,
   "metadata": {},
   "outputs": [],
   "source": [
    "selected_county = 'adams, illinois'"
   ]
  },
  {
   "cell_type": "code",
   "execution_count": 53,
   "metadata": {},
   "outputs": [],
   "source": [
    "def predict_wrapper(model, X, time_steps=5):   \n",
    "    \"\"\"\n",
    "    Wrapper function to handle the input data, format it as dictionary and make predictions.\n",
    "    \"\"\"\n",
    "    X = np.expand_dims(X, axis=-1)\n",
    "    X_in = {f'w{i}': X[:, 52*i:52*(i+1), :] for i in range(6)}\n",
    "    X_in.update({f's{i}': X[:, 312+6*i:312+6*(i+1), :] for i in range(11)})\n",
    "    X_in['p'] = X[:, 378:392, :]\n",
    "    X_in['avg_yield'] = X[:, - time_steps:, :]\n",
    "    \n",
    "    return model.predict(X_in)"
   ]
  },
  {
   "cell_type": "code",
   "execution_count": 54,
   "metadata": {},
   "outputs": [
    {
     "name": "stdout",
     "output_type": "stream",
     "text": [
      "1/1 [==============================] - 1s 1s/step\n"
     ]
    },
    {
     "data": {
      "text/plain": [
       "array([[1.2559029],\n",
       "       [1.5713853]], dtype=float32)"
      ]
     },
     "execution_count": 54,
     "metadata": {},
     "output_type": "execute_result"
    }
   ],
   "source": [
    "try_this = test_data[:2, 3:]\n",
    "\n",
    "predict_wrapper(og_model,try_this)"
   ]
  }
 ],
 "metadata": {
  "kernelspec": {
   "display_name": "venv",
   "language": "python",
   "name": "python3"
  },
  "language_info": {
   "codemirror_mode": {
    "name": "ipython",
    "version": 3
   },
   "file_extension": ".py",
   "mimetype": "text/x-python",
   "name": "python",
   "nbconvert_exporter": "python",
   "pygments_lexer": "ipython3",
   "version": "3.10.12"
  }
 },
 "nbformat": 4,
 "nbformat_minor": 2
}
